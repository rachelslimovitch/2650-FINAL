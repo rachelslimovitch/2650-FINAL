{
  "nbformat": 4,
  "nbformat_minor": 0,
  "metadata": {
    "colab": {
      "provenance": [],
      "authorship_tag": "ABX9TyM3iwd8JcXP2iCeMFTgThhd",
      "include_colab_link": true
    },
    "kernelspec": {
      "name": "ir",
      "display_name": "R"
    },
    "language_info": {
      "name": "R"
    }
  },
  "cells": [
    {
      "cell_type": "markdown",
      "metadata": {
        "id": "view-in-github",
        "colab_type": "text"
      },
      "source": [
        "<a href=\"https://colab.research.google.com/github/rachelslimovitch/2650-FINAL/blob/main/MNIST_practice.ipynb\" target=\"_parent\"><img src=\"https://colab.research.google.com/assets/colab-badge.svg\" alt=\"Open In Colab\"/></a>"
      ]
    },
    {
      "cell_type": "markdown",
      "source": [
        "## First: set up packages\n"
      ],
      "metadata": {
        "id": "BHviXMv9cHXQ"
      }
    },
    {
      "cell_type": "code",
      "execution_count": 97,
      "metadata": {
        "id": "D5r57oMdFful",
        "colab": {
          "base_uri": "https://localhost:8080/"
        },
        "outputId": "cd14857d-6792-458a-bdc6-59be35ebdc21"
      },
      "outputs": [
        {
          "output_type": "stream",
          "name": "stderr",
          "text": [
            "Installing package into ‘/usr/local/lib/R/site-library’\n",
            "(as ‘lib’ is unspecified)\n",
            "\n",
            "Installing package into ‘/usr/local/lib/R/site-library’\n",
            "(as ‘lib’ is unspecified)\n",
            "\n",
            "Installing package into ‘/usr/local/lib/R/site-library’\n",
            "(as ‘lib’ is unspecified)\n",
            "\n"
          ]
        }
      ],
      "source": [
        "install.packages(\"tensorflow\")\n",
        "install.packages(\"keras\")\n",
        "install.packages(\"ggplot2\")"
      ]
    },
    {
      "cell_type": "code",
      "source": [
        "install.packages(\"caret\")"
      ],
      "metadata": {
        "colab": {
          "base_uri": "https://localhost:8080/"
        },
        "id": "Mq2h8R1Z0Dy4",
        "outputId": "b76d0124-ded9-4f96-8936-e734a8f8c1dc"
      },
      "execution_count": 89,
      "outputs": [
        {
          "output_type": "stream",
          "name": "stderr",
          "text": [
            "Installing package into ‘/usr/local/lib/R/site-library’\n",
            "(as ‘lib’ is unspecified)\n",
            "\n",
            "also installing the dependencies ‘listenv’, ‘parallelly’, ‘future’, ‘globals’, ‘shape’, ‘future.apply’, ‘numDeriv’, ‘progressr’, ‘SQUAREM’, ‘diagram’, ‘lava’, ‘prodlim’, ‘proxy’, ‘iterators’, ‘clock’, ‘gower’, ‘hardhat’, ‘ipred’, ‘timeDate’, ‘e1071’, ‘foreach’, ‘ModelMetrics’, ‘plyr’, ‘pROC’, ‘recipes’, ‘reshape2’\n",
            "\n",
            "\n"
          ]
        }
      ]
    },
    {
      "cell_type": "code",
      "source": [
        "library(tensorflow)\n",
        "library(keras)\n",
        "library(ggplot2)\n",
        "library(caret)"
      ],
      "metadata": {
        "colab": {
          "base_uri": "https://localhost:8080/"
        },
        "id": "0wN37k-0cC4E",
        "outputId": "23dc9c79-4640-42bc-fa17-dd81342d33d8"
      },
      "execution_count": 90,
      "outputs": [
        {
          "output_type": "stream",
          "name": "stderr",
          "text": [
            "Loading required package: lattice\n",
            "\n",
            "\n",
            "Attaching package: ‘caret’\n",
            "\n",
            "\n",
            "The following object is masked from ‘package:tensorflow’:\n",
            "\n",
            "    train\n",
            "\n",
            "\n"
          ]
        }
      ]
    },
    {
      "cell_type": "markdown",
      "source": [
        "## Load in data and pre-process:"
      ],
      "metadata": {
        "id": "0zVbgB27cN01"
      }
    },
    {
      "cell_type": "code",
      "source": [
        "#load MNIST data\n",
        "mnist_data<- dataset_mnist()"
      ],
      "metadata": {
        "id": "8kalgWu5cG2O"
      },
      "execution_count": 4,
      "outputs": []
    },
    {
      "cell_type": "code",
      "source": [
        "#training data\n",
        "xtrain<-mnist_data$train$x\n",
        "dim(xtrain) #60,000 x 28 x 28\n",
        "\n",
        "ytrain<-mnist_data$train$y\n",
        "dim(ytrain) #60,000\n",
        "\n",
        "xtest<-mnist_data$test$x\n",
        "dim(xtest) #10,000 x 28 x 28\n",
        "\n",
        "ytest<-mnist_data$test$y\n",
        "dim(ytest) #10,000"
      ],
      "metadata": {
        "colab": {
          "base_uri": "https://localhost:8080/",
          "height": 86
        },
        "id": "aY4iGoo0c7tf",
        "outputId": "6d567109-932c-4773-ee10-36f8d7198b4e"
      },
      "execution_count": 7,
      "outputs": [
        {
          "output_type": "display_data",
          "data": {
            "text/html": [
              "<style>\n",
              ".list-inline {list-style: none; margin:0; padding: 0}\n",
              ".list-inline>li {display: inline-block}\n",
              ".list-inline>li:not(:last-child)::after {content: \"\\00b7\"; padding: 0 .5ex}\n",
              "</style>\n",
              "<ol class=list-inline><li>60000</li><li>28</li><li>28</li></ol>\n"
            ],
            "text/markdown": "1. 60000\n2. 28\n3. 28\n\n\n",
            "text/latex": "\\begin{enumerate*}\n\\item 60000\n\\item 28\n\\item 28\n\\end{enumerate*}\n",
            "text/plain": [
              "[1] 60000    28    28"
            ]
          },
          "metadata": {}
        },
        {
          "output_type": "display_data",
          "data": {
            "text/html": [
              "60000"
            ],
            "text/markdown": "60000",
            "text/latex": "60000",
            "text/plain": [
              "[1] 60000"
            ]
          },
          "metadata": {}
        },
        {
          "output_type": "display_data",
          "data": {
            "text/html": [
              "<style>\n",
              ".list-inline {list-style: none; margin:0; padding: 0}\n",
              ".list-inline>li {display: inline-block}\n",
              ".list-inline>li:not(:last-child)::after {content: \"\\00b7\"; padding: 0 .5ex}\n",
              "</style>\n",
              "<ol class=list-inline><li>10000</li><li>28</li><li>28</li></ol>\n"
            ],
            "text/markdown": "1. 10000\n2. 28\n3. 28\n\n\n",
            "text/latex": "\\begin{enumerate*}\n\\item 10000\n\\item 28\n\\item 28\n\\end{enumerate*}\n",
            "text/plain": [
              "[1] 10000    28    28"
            ]
          },
          "metadata": {}
        },
        {
          "output_type": "display_data",
          "data": {
            "text/html": [
              "10000"
            ],
            "text/markdown": "10000",
            "text/latex": "10000",
            "text/plain": [
              "[1] 10000"
            ]
          },
          "metadata": {}
        }
      ]
    },
    {
      "cell_type": "code",
      "source": [
        "#we want pixels to be between [0,1]: normalization helps prevent weights from becoming too large\n",
        "xtrain<- xtrain / max(xtrain) #dividing by 255\n",
        "xtest<- xtest / max(xtest) \n"
      ],
      "metadata": {
        "id": "PmzRcJvUdURV"
      },
      "execution_count": 79,
      "outputs": []
    },
    {
      "cell_type": "code",
      "source": [
        "#could also use scale(), if we assume pixel values are ~N. But we can see that ours aren't ~N:\n",
        "\n",
        "#flatten image shape into vector\n",
        "xtrain_vec<- array_reshape(xtrain, c(nrow(xtrain), 784)) #b/c 28 * 28 = 784\n",
        "shapiro.test(xtrain_vec[1,]) #reject null that ~N\n",
        "\n",
        "hist(xtrain_vec[1,], breaks=50, main=\"Histogram of pixel values\") #definitely not ~N"
      ],
      "metadata": {
        "colab": {
          "base_uri": "https://localhost:8080/",
          "height": 524
        },
        "id": "6PanpN4Aek11",
        "outputId": "4fbddce2-7421-4902-9e5b-e88e0a06b9ba"
      },
      "execution_count": 14,
      "outputs": [
        {
          "output_type": "display_data",
          "data": {
            "text/plain": [
              "\n",
              "\tShapiro-Wilk normality test\n",
              "\n",
              "data:  xtrain_vec[1, ]\n",
              "W = 0.481, p-value < 2.2e-16\n"
            ]
          },
          "metadata": {}
        },
        {
          "output_type": "display_data",
          "data": {
            "text/plain": [
              "Plot with title “Histogram of pixel values”"
            ],
            "image/png": "[encoded data removed]"
          },
          "metadata": {
            "image/png": {
              "width": 420,
              "height": 420
            }
          }
        }
      ]
    },
    {
      "cell_type": "code",
      "source": [
        "input_size<- dim(xtrain)[2] * dim(xtrain)[3] #number of rows in each image x number of columns in each image (28 * 28 = 784)\n",
        "latent_size<- 10 #dimensionality of hidden representation of input layer (10 features represent input data in bottleneck layer)"
      ],
      "metadata": {
        "id": "abji9LFAfZYT"
      },
      "execution_count": 41,
      "outputs": []
    },
    {
      "cell_type": "code",
      "source": [
        "#reshape matrices to combine row and cols: so # images * # pixels\n",
        "x_train = array_reshape(xtrain, dim=c(dim(xtrain)[1], input_size))\n",
        "dim(x_train)\n",
        "\n",
        "x_test = array_reshape(xtest, dim=c(dim(xtest)[1], input_size))\n",
        "dim(x_test)"
      ],
      "metadata": {
        "colab": {
          "base_uri": "https://localhost:8080/",
          "height": 52
        },
        "id": "ZriLXg_xhIgL",
        "outputId": "5773569f-0d0f-4ccd-82ad-4998fefcee70"
      },
      "execution_count": 80,
      "outputs": [
        {
          "output_type": "display_data",
          "data": {
            "text/html": [
              "<style>\n",
              ".list-inline {list-style: none; margin:0; padding: 0}\n",
              ".list-inline>li {display: inline-block}\n",
              ".list-inline>li:not(:last-child)::after {content: \"\\00b7\"; padding: 0 .5ex}\n",
              "</style>\n",
              "<ol class=list-inline><li>60000</li><li>784</li></ol>\n"
            ],
            "text/markdown": "1. 60000\n2. 784\n\n\n",
            "text/latex": "\\begin{enumerate*}\n\\item 60000\n\\item 784\n\\end{enumerate*}\n",
            "text/plain": [
              "[1] 60000   784"
            ]
          },
          "metadata": {}
        },
        {
          "output_type": "display_data",
          "data": {
            "text/html": [
              "<style>\n",
              ".list-inline {list-style: none; margin:0; padding: 0}\n",
              ".list-inline>li {display: inline-block}\n",
              ".list-inline>li:not(:last-child)::after {content: \"\\00b7\"; padding: 0 .5ex}\n",
              "</style>\n",
              "<ol class=list-inline><li>10000</li><li>784</li></ol>\n"
            ],
            "text/markdown": "1. 10000\n2. 784\n\n\n",
            "text/latex": "\\begin{enumerate*}\n\\item 10000\n\\item 784\n\\end{enumerate*}\n",
            "text/plain": [
              "[1] 10000   784"
            ]
          },
          "metadata": {}
        }
      ]
    },
    {
      "cell_type": "markdown",
      "source": [
        "## Define the encoder:\n",
        "\n",
        "Note that the way we defined our encoder and decoder is slightly different than https://statslab.eighty20.co.za/posts/autoencoders_keras_r/. There, they pass in their encoder as the first layer in their decoder."
      ],
      "metadata": {
        "id": "1eZDAXBuhsHY"
      }
    },
    {
      "cell_type": "code",
      "source": [
        "#define input layer:\n",
        "enc_input<-layer_input(shape=c(input_size)) #our input is the 28x28 pixels\n",
        "\n",
        "#define other layers in encoder:\n",
        "enc_output = enc_input %>% \n",
        "  layer_dense(units=256, activation = \"relu\") %>% \n",
        "  layer_activation_leaky_relu() %>% \n",
        "  layer_dense(units=latent_size) %>% #because our latent size is what will be our output of encoder\n",
        "  layer_activation_leaky_relu()\n",
        "\n",
        "encoder = keras_model(enc_input, enc_output)\n",
        "summary(encoder)"
      ],
      "metadata": {
        "colab": {
          "base_uri": "https://localhost:8080/"
        },
        "id": "4CEJ_cthijJd",
        "outputId": "a0b7d4d7-e84d-4053-c7fc-218a0f55a7ed"
      },
      "execution_count": 96,
      "outputs": [
        {
          "output_type": "stream",
          "name": "stdout",
          "text": [
            "Model: \"model_5\"\n",
            "________________________________________________________________________________\n",
            " Layer (type)                       Output Shape                    Param #     \n",
            "================================================================================\n",
            " input_10 (InputLayer)              [(None, 784)]                   0           \n",
            " dense_49 (Dense)                   (None, 256)                     200960      \n",
            " leaky_re_lu_36 (LeakyReLU)         (None, 256)                     0           \n",
            " dense_48 (Dense)                   (None, 10)                      2570        \n",
            " leaky_re_lu_35 (LeakyReLU)         (None, 10)                      0           \n",
            "================================================================================\n",
            "Total params: 203,530\n",
            "Trainable params: 203,530\n",
            "Non-trainable params: 0\n",
            "________________________________________________________________________________\n"
          ]
        }
      ]
    },
    {
      "cell_type": "markdown",
      "source": [
        "Note- \n",
        "I tried to run this the way we had been, and the input layer wouldn't show up in the summary. I also learned that the input layer doesn't go into Keras. Is there a reason why we need to do it this way?"
      ],
      "metadata": {
        "id": "mtY_HPDxlUzt"
      }
    },
    {
      "cell_type": "markdown",
      "source": [
        "## Define the decoder: \n",
        "The decoder goes from the bottleneck to the reconstructed input. \n",
        "\n",
        "Note that we use sigmoid as the activation function in the final layer decoder because this is the range of pixels in the MNIST data (we normalized the pixels to be between 0 and 1 instead of 0 and 255).\n",
        "\n",
        "**QUESTION:** do we need to use a leaky_relu layer? If so... should this be 0?"
      ],
      "metadata": {
        "id": "Z0J2E22xlg4O"
      }
    },
    {
      "cell_type": "code",
      "source": [
        "dec_input = layer_input(shape = latent_size) #our input is that latent size\n",
        "\n",
        "dec_output = dec_input %>% \n",
        "  layer_dense(units=256, activation = \"relu\") %>% \n",
        "  layer_activation_leaky_relu() %>% \n",
        "  layer_dense(units = input_size, activation = \"sigmoid\") %>%  #our output is the original input, and sigmoid b/c forces output to be between 0 and 1\n",
        "  layer_activation_leaky_relu()\n",
        "\n",
        "decoder = keras_model(dec_input, dec_output)\n",
        " \n",
        "summary(decoder)"
      ],
      "metadata": {
        "colab": {
          "base_uri": "https://localhost:8080/"
        },
        "id": "FB7jfI1Plc3J",
        "outputId": "e0033eaf-bc64-4396-fc24-722ad34f3ebc"
      },
      "execution_count": 55,
      "outputs": [
        {
          "output_type": "stream",
          "name": "stdout",
          "text": [
            "Model: \"model_1\"\n",
            "________________________________________________________________________________\n",
            " Layer (type)                       Output Shape                    Param #     \n",
            "================================================================================\n",
            " input_5 (InputLayer)               [(None, 10)]                    0           \n",
            " dense_41 (Dense)                   (None, 256)                     2816        \n",
            " leaky_re_lu_28 (LeakyReLU)         (None, 256)                     0           \n",
            " dense_40 (Dense)                   (None, 784)                     201488      \n",
            " leaky_re_lu_27 (LeakyReLU)         (None, 784)                     0           \n",
            "================================================================================\n",
            "Total params: 204,304\n",
            "Trainable params: 204,304\n",
            "Non-trainable params: 0\n",
            "________________________________________________________________________________\n"
          ]
        }
      ]
    },
    {
      "cell_type": "markdown",
      "source": [
        "## Define the autoencoder\n",
        "\n",
        "We need to combine our encoder and decoder, while using an additional input layer (into the encoder). "
      ],
      "metadata": {
        "id": "Xc49aN4knJPn"
      }
    },
    {
      "cell_type": "code",
      "source": [
        "aen_input = layer_input(shape = input_size) #original input: 28x28\n",
        "\n",
        "aen_output = aen_input %>% #original input\n",
        "  encoder() %>%  #encoder\n",
        "  decoder() #decoder\n",
        "   \n",
        "aen = keras_model(aen_input, aen_output)\n",
        "summary(aen)"
      ],
      "metadata": {
        "colab": {
          "base_uri": "https://localhost:8080/"
        },
        "id": "T0dmUHkKjZFE",
        "outputId": "e8e6a756-ae2e-46af-cf0e-e01aa873dae2"
      },
      "execution_count": 56,
      "outputs": [
        {
          "output_type": "stream",
          "name": "stdout",
          "text": [
            "Model: \"model_2\"\n",
            "________________________________________________________________________________\n",
            " Layer (type)                       Output Shape                    Param #     \n",
            "================================================================================\n",
            " input_6 (InputLayer)               [(None, 784)]                   0           \n",
            " model (Functional)                 (None, 10)                      203530      \n",
            " model_1 (Functional)               (None, 784)                     204304      \n",
            "================================================================================\n",
            "Total params: 407,834\n",
            "Trainable params: 407,834\n",
            "Non-trainable params: 0\n",
            "________________________________________________________________________________\n"
          ]
        }
      ]
    },
    {
      "cell_type": "markdown",
      "source": [
        "**QUESTION:** the website used binary_crossentropy instead of mse. But we don't have binary inputs: we have inputs that range from 0 to 1. \n",
        "However, when I tried to run the images, I found that binary_crossentropy produced reconstructed images that made sense, while mse produced a white cloud for each image. \n",
        "\n",
        "NOTE: reason why x_train is both the x and y is because the input data is used as both the input and target output during training. The model learns to encode the input data into a compressed representation and then decode this representation to reconstruct the original input data as closely as possible."
      ],
      "metadata": {
        "id": "haiDeyZCpJel"
      }
    },
    {
      "cell_type": "code",
      "source": [
        "#NOTE: this takes ~4min to run\n",
        "#Fitting the model\n",
        "aen %>% compile(\n",
        "  optimizer = 'adam',  #note that the website used rmsprop instead, could choose either\n",
        "  loss = 'binary_crossentropy', #the website used binary_crossentropy\n",
        ")\n",
        "\n",
        "#Train the model:\n",
        "aen %>% fit(x= x_train,\n",
        "            y= x_train,  #b/c in autoencoders, goal is to reconstruct input\n",
        "            epochs=50, \n",
        "            batch_size=256)"
      ],
      "metadata": {
        "id": "nzQ7FWNZnY7f"
      },
      "execution_count": 83,
      "outputs": []
    },
    {
      "cell_type": "markdown",
      "source": [
        "## Generate the autoencoder:\n",
        "We can generate x_test data using the encoder and decoder.\n",
        "\n",
        "First: encode and then decode the data. "
      ],
      "metadata": {
        "id": "WMNb2jGQp9i4"
      }
    },
    {
      "cell_type": "code",
      "source": [
        "#encode\n",
        "encoded_imgs <- encoder %>% \n",
        "                predict(x_test) #predicting on x_test"
      ],
      "metadata": {
        "id": "0OgmWLvXosWR"
      },
      "execution_count": 84,
      "outputs": []
    },
    {
      "cell_type": "code",
      "source": [
        "#decoder\n",
        "decoded_imgs<- decoder %>%\n",
        "               predict(encoded_imgs) #predicting on the output of the encoder\n",
        "             "
      ],
      "metadata": {
        "id": "fOvyi8uIraxN"
      },
      "execution_count": 85,
      "outputs": []
    },
    {
      "cell_type": "code",
      "source": [
        "#change shape of the decoded data: back to 10,000 x 28 x 28, currently 10,000 x 784\n",
        "pred_images = array_reshape(decoded_imgs, dim=c(dim(decoded_imgs)[1], 28, 28))"
      ],
      "metadata": {
        "id": "g7wnAHkArlPR"
      },
      "execution_count": 86,
      "outputs": []
    },
    {
      "cell_type": "markdown",
      "source": [
        "## visualize the original x test images and the reconstructed images:"
      ],
      "metadata": {
        "id": "8pOgybOcrxG6"
      }
    },
    {
      "cell_type": "code",
      "source": [
        "op <- par(mfrow=c(10,2), mar=c(1,0,0,0)) #setup: 12 images in each of 2 columns\n",
        "\n",
        "#loop through 1-10:\n",
        "for (i in 1:10){\n",
        "  plot(as.raster(pred_images[i,,]))\n",
        "  plot(as.raster(xtest[i,,]))\n",
        "}"
      ],
      "metadata": {
        "colab": {
          "base_uri": "https://localhost:8080/",
          "height": 437
        },
        "id": "hc3hCE9Qr0OY",
        "outputId": "9f827616-0512-421d-82f4-57554d35f507"
      },
      "execution_count": 87,
      "outputs": [
        {
          "output_type": "display_data",
          "data": {
            "text/plain": [
              "plot without title"
            ],
            "image/png": "[encoded data removed]"
          },
          "metadata": {
            "image/png": {
              "width": 420,
              "height": 420
            }
          }
        }
      ]
    },
    {
      "cell_type": "markdown",
      "source": [
        "\n",
        "\n",
        "---\n",
        "\n"
      ],
      "metadata": {
        "id": "d-XrQtAtAq2R"
      }
    },
    {
      "cell_type": "markdown",
      "source": [
        "## We can look at anomaly detection:\n",
        "*Question: is this basically just finding outliers?*\n",
        "\n",
        "We can use the reconstruction error as an anomaly score.\n",
        "\n",
        "1) Train our autoencoder on MNISt using x_train as input and output (as we did above)\n",
        "\n",
        "2) Use trained autoencoder to predict reconstructed output on MNIST test data using x_test (which we did above)\n",
        "\n",
        "3) Calculate the MSE between x_test (original test images) and the reconstructed version. We'll use keras::mse()\n",
        "\n",
        "4) Visualize the distribution of the MSE by using a histogram or density. If distribution is bimodal/has a long tail: indicates presence of anomalies.\n",
        "\n",
        "5) To identify images that are anomalies: set a threshold for MSE scores. Images with MSE higher than threshold: flagged as anomalies."
      ],
      "metadata": {
        "id": "paFWLISTArkA"
      }
    },
    {
      "cell_type": "markdown",
      "source": [
        "## We can do denoising:\n",
        "\n"
      ],
      "metadata": {
        "id": "JY2vzTJ5BiHk"
      }
    },
    {
      "cell_type": "markdown",
      "source": [
        "## Next: we can visualize the embedding.\n",
        "In the petal length code, they had 2 variables they were comparing: petal length and sepal width. \n",
        "\n",
        "In our code, it will be similar to Wk5 when we had the faces (Wk4/Wk5). \n",
        "\n",
        "Instead of the x-axis being petal length and the y-axis being sepal width, we'll use pixel values of the images. So each image will be a point on the plot, and the x-value of the coordinates will represent pixel values in the x-direction of the image, and the y-value of the coordinate will represent pixel values in the y-direction of the image (**???does this make sense??**)\n",
        "\n",
        "https://ranasinghiitkgp.medium.com/principal-component-analysis-pca-with-code-on-mnist-dataset-da7de0d07c22\n",
        "(MNIST is already pretty low dimensional, with only 784 features)"
      ],
      "metadata": {
        "id": "1lBi6g3OwKjB"
      }
    },
    {
      "cell_type": "markdown",
      "source": [
        "## To compare to PCA:\n",
        "We will just use our encoder, and we'll compare our latent layer to PCA. We can do this visually or we can compare the accuracy of the two models."
      ],
      "metadata": {
        "id": "22pgooTO6RFE"
      }
    },
    {
      "cell_type": "markdown",
      "source": [
        "************************\n",
        "\n",
        "---\n",
        "\n"
      ],
      "metadata": {
        "id": "f_-BAfPc5B-4"
      }
    },
    {
      "cell_type": "markdown",
      "source": [
        "Note: to understand the code from https://statslab.eighty20.co.za/posts/autoencoders_keras_r/, I read in the data. "
      ],
      "metadata": {
        "id": "ONR5cHHw46UA"
      }
    },
    {
      "cell_type": "code",
      "source": [
        "split_ind <- iris$Species %>% caret::createDataPartition(p = 0.8,list = FALSE)\n",
        "\n",
        "train <- iris[split_ind,]\n",
        "test <- iris[-split_ind,]\n",
        "\n",
        "#data has 5 variables: sepal length, sepal width, petal length, petal width, species"
      ],
      "metadata": {
        "id": "FlOM6H0fz8D3"
      },
      "execution_count": 91,
      "outputs": []
    }
  ]
}